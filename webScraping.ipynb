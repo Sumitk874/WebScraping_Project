{
 "cells": [
  {
   "cell_type": "code",
   "execution_count": 2,
   "metadata": {},
   "outputs": [],
   "source": [
    "from bs4 import BeautifulSoup\n",
    "import requests"
   ]
  },
  {
   "cell_type": "code",
   "execution_count": 3,
   "metadata": {},
   "outputs": [],
   "source": [
    "url = 'https://en.wikipedia.org/wiki/List_of_largest_companies_in_India'\n",
    "page = requests.get(url)\n",
    "soup = BeautifulSoup(page.text,'html')"
   ]
  },
  {
   "cell_type": "code",
   "execution_count": 4,
   "metadata": {},
   "outputs": [],
   "source": [
    "table = soup.find_all('table')[1]\n",
    "# we'll be using the second table from the page"
   ]
  },
  {
   "cell_type": "code",
   "execution_count": 6,
   "metadata": {},
   "outputs": [],
   "source": [
    "world_titles = table.find_all('th')\n",
    "# print(world_titles)"
   ]
  },
  {
   "cell_type": "code",
   "execution_count": 7,
   "metadata": {},
   "outputs": [],
   "source": [
    "world_table_titles = [title.text.strip() for title in world_titles]"
   ]
  },
  {
   "cell_type": "code",
   "execution_count": 8,
   "metadata": {},
   "outputs": [],
   "source": [
    "import pandas as pd"
   ]
  },
  {
   "cell_type": "code",
   "execution_count": 9,
   "metadata": {},
   "outputs": [],
   "source": [
    "df = pd.DataFrame(columns=world_table_titles)"
   ]
  },
  {
   "cell_type": "code",
   "execution_count": 10,
   "metadata": {},
   "outputs": [],
   "source": [
    "column_data = table.find_all('tr')"
   ]
  },
  {
   "cell_type": "code",
   "execution_count": 11,
   "metadata": {},
   "outputs": [],
   "source": [
    "for row in column_data[1:]:\n",
    "    row_data = row.find_all('td')\n",
    "    individual_row_data = [data.text.strip() for data in row_data]\n",
    "    # print(individual_row_data)\n",
    "\n",
    "    length = len(df)\n",
    "    df.loc[length] = individual_row_data"
   ]
  },
  {
   "cell_type": "code",
   "execution_count": 12,
   "metadata": {},
   "outputs": [
    {
     "data": {
      "text/html": [
       "<div>\n",
       "<style scoped>\n",
       "    .dataframe tbody tr th:only-of-type {\n",
       "        vertical-align: middle;\n",
       "    }\n",
       "\n",
       "    .dataframe tbody tr th {\n",
       "        vertical-align: top;\n",
       "    }\n",
       "\n",
       "    .dataframe thead th {\n",
       "        text-align: right;\n",
       "    }\n",
       "</style>\n",
       "<table border=\"1\" class=\"dataframe\">\n",
       "  <thead>\n",
       "    <tr style=\"text-align: right;\">\n",
       "      <th></th>\n",
       "      <th>Rank</th>\n",
       "      <th>Name</th>\n",
       "      <th>Industry</th>\n",
       "      <th>Revenue(in  ₹ Crore)</th>\n",
       "      <th>Revenue growth</th>\n",
       "      <th>Profits(in  ₹ Crore)</th>\n",
       "      <th>Headquarters</th>\n",
       "      <th>State Controlled</th>\n",
       "    </tr>\n",
       "  </thead>\n",
       "  <tbody>\n",
       "    <tr>\n",
       "      <th>0</th>\n",
       "      <td>1</td>\n",
       "      <td>Indian Oil Corporation</td>\n",
       "      <td>Oil and gas</td>\n",
       "      <td>424,321</td>\n",
       "      <td>13.2%</td>\n",
       "      <td>22,189</td>\n",
       "      <td>New Delhi</td>\n",
       "      <td>Yes</td>\n",
       "    </tr>\n",
       "    <tr>\n",
       "      <th>1</th>\n",
       "      <td>2</td>\n",
       "      <td>Reliance Industries Limited</td>\n",
       "      <td>Oil and gas</td>\n",
       "      <td>410,295</td>\n",
       "      <td>28.2%</td>\n",
       "      <td>36,075</td>\n",
       "      <td>Mumbai</td>\n",
       "      <td></td>\n",
       "    </tr>\n",
       "    <tr>\n",
       "      <th>2</th>\n",
       "      <td>3</td>\n",
       "      <td>Oil and Natural Gas Corporation</td>\n",
       "      <td>Oil and gas</td>\n",
       "      <td>333,143</td>\n",
       "      <td>11.0%</td>\n",
       "      <td>22,106</td>\n",
       "      <td>New Delhi</td>\n",
       "      <td>Yes</td>\n",
       "    </tr>\n",
       "    <tr>\n",
       "      <th>3</th>\n",
       "      <td>4</td>\n",
       "      <td>State Bank of India</td>\n",
       "      <td>Banking</td>\n",
       "      <td>306,528</td>\n",
       "      <td>2.6%</td>\n",
       "      <td>−4,556</td>\n",
       "      <td>Mumbai</td>\n",
       "      <td>Yes</td>\n",
       "    </tr>\n",
       "    <tr>\n",
       "      <th>4</th>\n",
       "      <td>5</td>\n",
       "      <td>Tata Motors</td>\n",
       "      <td>Automotive</td>\n",
       "      <td>301,175</td>\n",
       "      <td>7.9%</td>\n",
       "      <td>8,989</td>\n",
       "      <td>Mumbai</td>\n",
       "      <td></td>\n",
       "    </tr>\n",
       "  </tbody>\n",
       "</table>\n",
       "</div>"
      ],
      "text/plain": [
       "  Rank                             Name     Industry Revenue(in  ₹ Crore)  \\\n",
       "0    1           Indian Oil Corporation  Oil and gas              424,321   \n",
       "1    2      Reliance Industries Limited  Oil and gas              410,295   \n",
       "2    3  Oil and Natural Gas Corporation  Oil and gas              333,143   \n",
       "3    4              State Bank of India      Banking              306,528   \n",
       "4    5                      Tata Motors   Automotive              301,175   \n",
       "\n",
       "  Revenue growth Profits(in  ₹ Crore) Headquarters State Controlled  \n",
       "0          13.2%               22,189    New Delhi              Yes  \n",
       "1          28.2%               36,075       Mumbai                   \n",
       "2          11.0%               22,106    New Delhi              Yes  \n",
       "3           2.6%               −4,556       Mumbai              Yes  \n",
       "4           7.9%                8,989       Mumbai                   "
      ]
     },
     "execution_count": 12,
     "metadata": {},
     "output_type": "execute_result"
    }
   ],
   "source": [
    "df.head()"
   ]
  },
  {
   "cell_type": "code",
   "execution_count": null,
   "metadata": {},
   "outputs": [],
   "source": [
    "# df.to_csv(r\"C:\\Users\\sumit\\Desktop\\out.csv\", index=False)\n",
    "# for exporting data to a csv format"
   ]
  },
  {
   "cell_type": "code",
   "execution_count": null,
   "metadata": {},
   "outputs": [],
   "source": []
  }
 ],
 "metadata": {
  "kernelspec": {
   "display_name": "Python 3",
   "language": "python",
   "name": "python3"
  },
  "language_info": {
   "codemirror_mode": {
    "name": "ipython",
    "version": 3
   },
   "file_extension": ".py",
   "mimetype": "text/x-python",
   "name": "python",
   "nbconvert_exporter": "python",
   "pygments_lexer": "ipython3",
   "version": "3.12.3"
  }
 },
 "nbformat": 4,
 "nbformat_minor": 2
}
